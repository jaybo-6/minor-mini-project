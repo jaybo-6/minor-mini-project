{
 "cells": [
  {
   "cell_type": "code",
   "execution_count": 1,
   "metadata": {},
   "outputs": [],
   "source": [
    "import numpy as np\n",
    "import pandas as pd\n",
    "import seaborn as sns\n",
    "%matplotlib inline\n",
    "import scipy.stats as stats\n",
    "import warnings\n",
    "warnings.filterwarnings('ignore')\n",
    "import matplotlib.pyplot as plt\n",
    "plt.style.use('seaborn-v0_8-whitegrid')"
   ]
  },
  {
   "cell_type": "code",
   "execution_count": 2,
   "metadata": {},
   "outputs": [],
   "source": [
    "dfc = pd.read_csv('Salary_prediction_data.csv')\n",
    "original = dfc.copy()"
   ]
  },
  {
   "cell_type": "code",
   "execution_count": 3,
   "metadata": {},
   "outputs": [],
   "source": [
    "dfc = dfc.drop(columns=['Unnamed: 0','StudentId'])"
   ]
  },
  {
   "cell_type": "code",
   "execution_count": 4,
   "metadata": {},
   "outputs": [
    {
     "name": "stdout",
     "output_type": "stream",
     "text": [
      "<class 'pandas.core.frame.DataFrame'>\n",
      "RangeIndex: 10000 entries, 0 to 9999\n",
      "Data columns (total 13 columns):\n",
      " #   Column                      Non-Null Count  Dtype  \n",
      "---  ------                      --------------  -----  \n",
      " 0   CGPA                        10000 non-null  float64\n",
      " 1   Major Projects              10000 non-null  int64  \n",
      " 2   Workshops/Certificatios     10000 non-null  int64  \n",
      " 3   Mini Projects               10000 non-null  int64  \n",
      " 4   Skills                      10000 non-null  int64  \n",
      " 5   Communication Skill Rating  10000 non-null  float64\n",
      " 6   Internship                  10000 non-null  object \n",
      " 7   Hackathon                   10000 non-null  object \n",
      " 8   12th Percentage             10000 non-null  int64  \n",
      " 9   10th Percentage             10000 non-null  int64  \n",
      " 10  backlogs                    10000 non-null  int64  \n",
      " 11  PlacementStatus             10000 non-null  object \n",
      " 12  salary                      10000 non-null  int64  \n",
      "dtypes: float64(2), int64(8), object(3)\n",
      "memory usage: 1015.8+ KB\n"
     ]
    }
   ],
   "source": [
    "dfc.info()"
   ]
  },
  {
   "cell_type": "code",
   "execution_count": 5,
   "metadata": {},
   "outputs": [
    {
     "data": {
      "text/html": [
       "<div>\n",
       "<style scoped>\n",
       "    .dataframe tbody tr th:only-of-type {\n",
       "        vertical-align: middle;\n",
       "    }\n",
       "\n",
       "    .dataframe tbody tr th {\n",
       "        vertical-align: top;\n",
       "    }\n",
       "\n",
       "    .dataframe thead th {\n",
       "        text-align: right;\n",
       "    }\n",
       "</style>\n",
       "<table border=\"1\" class=\"dataframe\">\n",
       "  <thead>\n",
       "    <tr style=\"text-align: right;\">\n",
       "      <th></th>\n",
       "      <th>CGPA</th>\n",
       "      <th>Major Projects</th>\n",
       "      <th>Workshops/Certificatios</th>\n",
       "      <th>Mini Projects</th>\n",
       "      <th>Skills</th>\n",
       "      <th>Communication Skill Rating</th>\n",
       "      <th>12th Percentage</th>\n",
       "      <th>10th Percentage</th>\n",
       "      <th>backlogs</th>\n",
       "      <th>salary</th>\n",
       "    </tr>\n",
       "  </thead>\n",
       "  <tbody>\n",
       "    <tr>\n",
       "      <th>count</th>\n",
       "      <td>10000.000000</td>\n",
       "      <td>10000.000000</td>\n",
       "      <td>10000.000000</td>\n",
       "      <td>10000.000000</td>\n",
       "      <td>10000.000000</td>\n",
       "      <td>10000.000000</td>\n",
       "      <td>10000.000000</td>\n",
       "      <td>10000.000000</td>\n",
       "      <td>10000.00000</td>\n",
       "      <td>1.000000e+04</td>\n",
       "    </tr>\n",
       "    <tr>\n",
       "      <th>mean</th>\n",
       "      <td>7.698010</td>\n",
       "      <td>1.049200</td>\n",
       "      <td>2.026600</td>\n",
       "      <td>1.013200</td>\n",
       "      <td>7.555200</td>\n",
       "      <td>4.323960</td>\n",
       "      <td>69.159400</td>\n",
       "      <td>74.501500</td>\n",
       "      <td>1.73840</td>\n",
       "      <td>3.749350e+05</td>\n",
       "    </tr>\n",
       "    <tr>\n",
       "      <th>std</th>\n",
       "      <td>0.640131</td>\n",
       "      <td>0.665901</td>\n",
       "      <td>0.867968</td>\n",
       "      <td>0.904272</td>\n",
       "      <td>0.927922</td>\n",
       "      <td>0.411622</td>\n",
       "      <td>10.430459</td>\n",
       "      <td>8.919527</td>\n",
       "      <td>1.39512</td>\n",
       "      <td>4.733645e+05</td>\n",
       "    </tr>\n",
       "    <tr>\n",
       "      <th>min</th>\n",
       "      <td>6.500000</td>\n",
       "      <td>0.000000</td>\n",
       "      <td>0.000000</td>\n",
       "      <td>0.000000</td>\n",
       "      <td>6.000000</td>\n",
       "      <td>3.000000</td>\n",
       "      <td>55.000000</td>\n",
       "      <td>57.000000</td>\n",
       "      <td>0.00000</td>\n",
       "      <td>0.000000e+00</td>\n",
       "    </tr>\n",
       "    <tr>\n",
       "      <th>25%</th>\n",
       "      <td>7.400000</td>\n",
       "      <td>1.000000</td>\n",
       "      <td>1.000000</td>\n",
       "      <td>0.000000</td>\n",
       "      <td>7.000000</td>\n",
       "      <td>4.000000</td>\n",
       "      <td>59.000000</td>\n",
       "      <td>67.000000</td>\n",
       "      <td>1.00000</td>\n",
       "      <td>0.000000e+00</td>\n",
       "    </tr>\n",
       "    <tr>\n",
       "      <th>50%</th>\n",
       "      <td>7.700000</td>\n",
       "      <td>1.000000</td>\n",
       "      <td>2.000000</td>\n",
       "      <td>1.000000</td>\n",
       "      <td>8.000000</td>\n",
       "      <td>4.400000</td>\n",
       "      <td>70.000000</td>\n",
       "      <td>73.000000</td>\n",
       "      <td>1.00000</td>\n",
       "      <td>0.000000e+00</td>\n",
       "    </tr>\n",
       "    <tr>\n",
       "      <th>75%</th>\n",
       "      <td>8.200000</td>\n",
       "      <td>1.000000</td>\n",
       "      <td>3.000000</td>\n",
       "      <td>2.000000</td>\n",
       "      <td>8.000000</td>\n",
       "      <td>4.700000</td>\n",
       "      <td>78.000000</td>\n",
       "      <td>83.000000</td>\n",
       "      <td>3.00000</td>\n",
       "      <td>9.000000e+05</td>\n",
       "    </tr>\n",
       "    <tr>\n",
       "      <th>max</th>\n",
       "      <td>9.100000</td>\n",
       "      <td>2.000000</td>\n",
       "      <td>3.000000</td>\n",
       "      <td>3.000000</td>\n",
       "      <td>9.000000</td>\n",
       "      <td>4.800000</td>\n",
       "      <td>90.000000</td>\n",
       "      <td>88.000000</td>\n",
       "      <td>7.00000</td>\n",
       "      <td>1.300000e+06</td>\n",
       "    </tr>\n",
       "  </tbody>\n",
       "</table>\n",
       "</div>"
      ],
      "text/plain": [
       "               CGPA  Major Projects  Workshops/Certificatios  Mini Projects  \\\n",
       "count  10000.000000    10000.000000             10000.000000   10000.000000   \n",
       "mean       7.698010        1.049200                 2.026600       1.013200   \n",
       "std        0.640131        0.665901                 0.867968       0.904272   \n",
       "min        6.500000        0.000000                 0.000000       0.000000   \n",
       "25%        7.400000        1.000000                 1.000000       0.000000   \n",
       "50%        7.700000        1.000000                 2.000000       1.000000   \n",
       "75%        8.200000        1.000000                 3.000000       2.000000   \n",
       "max        9.100000        2.000000                 3.000000       3.000000   \n",
       "\n",
       "             Skills  Communication Skill Rating  12th Percentage  \\\n",
       "count  10000.000000                10000.000000     10000.000000   \n",
       "mean       7.555200                    4.323960        69.159400   \n",
       "std        0.927922                    0.411622        10.430459   \n",
       "min        6.000000                    3.000000        55.000000   \n",
       "25%        7.000000                    4.000000        59.000000   \n",
       "50%        8.000000                    4.400000        70.000000   \n",
       "75%        8.000000                    4.700000        78.000000   \n",
       "max        9.000000                    4.800000        90.000000   \n",
       "\n",
       "       10th Percentage     backlogs        salary  \n",
       "count     10000.000000  10000.00000  1.000000e+04  \n",
       "mean         74.501500      1.73840  3.749350e+05  \n",
       "std           8.919527      1.39512  4.733645e+05  \n",
       "min          57.000000      0.00000  0.000000e+00  \n",
       "25%          67.000000      1.00000  0.000000e+00  \n",
       "50%          73.000000      1.00000  0.000000e+00  \n",
       "75%          83.000000      3.00000  9.000000e+05  \n",
       "max          88.000000      7.00000  1.300000e+06  "
      ]
     },
     "execution_count": 5,
     "metadata": {},
     "output_type": "execute_result"
    }
   ],
   "source": [
    "dfc.describe()"
   ]
  },
  {
   "cell_type": "code",
   "execution_count": 6,
   "metadata": {},
   "outputs": [
    {
     "data": {
      "text/plain": [
       "(10000, 13)"
      ]
     },
     "execution_count": 6,
     "metadata": {},
     "output_type": "execute_result"
    }
   ],
   "source": [
    "dfc.shape"
   ]
  },
  {
   "cell_type": "code",
   "execution_count": 7,
   "metadata": {},
   "outputs": [
    {
     "data": {
      "text/html": [
       "<div>\n",
       "<style scoped>\n",
       "    .dataframe tbody tr th:only-of-type {\n",
       "        vertical-align: middle;\n",
       "    }\n",
       "\n",
       "    .dataframe tbody tr th {\n",
       "        vertical-align: top;\n",
       "    }\n",
       "\n",
       "    .dataframe thead th {\n",
       "        text-align: right;\n",
       "    }\n",
       "</style>\n",
       "<table border=\"1\" class=\"dataframe\">\n",
       "  <thead>\n",
       "    <tr style=\"text-align: right;\">\n",
       "      <th></th>\n",
       "      <th>count</th>\n",
       "      <th>unique</th>\n",
       "      <th>top</th>\n",
       "      <th>freq</th>\n",
       "    </tr>\n",
       "  </thead>\n",
       "  <tbody>\n",
       "    <tr>\n",
       "      <th>Internship</th>\n",
       "      <td>10000</td>\n",
       "      <td>2</td>\n",
       "      <td>Yes</td>\n",
       "      <td>5854</td>\n",
       "    </tr>\n",
       "    <tr>\n",
       "      <th>Hackathon</th>\n",
       "      <td>10000</td>\n",
       "      <td>2</td>\n",
       "      <td>Yes</td>\n",
       "      <td>7318</td>\n",
       "    </tr>\n",
       "    <tr>\n",
       "      <th>PlacementStatus</th>\n",
       "      <td>10000</td>\n",
       "      <td>2</td>\n",
       "      <td>NotPlaced</td>\n",
       "      <td>5803</td>\n",
       "    </tr>\n",
       "  </tbody>\n",
       "</table>\n",
       "</div>"
      ],
      "text/plain": [
       "                 count unique        top  freq\n",
       "Internship       10000      2        Yes  5854\n",
       "Hackathon        10000      2        Yes  7318\n",
       "PlacementStatus  10000      2  NotPlaced  5803"
      ]
     },
     "execution_count": 7,
     "metadata": {},
     "output_type": "execute_result"
    }
   ],
   "source": [
    "dfc.describe(include = 'O').T"
   ]
  },
  {
   "cell_type": "code",
   "execution_count": 8,
   "metadata": {},
   "outputs": [],
   "source": [
    "from sklearn.model_selection import train_test_split\n",
    "from sklearn.preprocessing import LabelEncoder, StandardScaler\n",
    "from sklearn.ensemble import RandomForestClassifier, RandomForestRegressor\n",
    "from sklearn.metrics import accuracy_score, mean_squared_error\n",
    "import pickle"
   ]
  },
  {
   "cell_type": "markdown",
   "metadata": {},
   "source": [
    "**encoding & train test split & scaling**"
   ]
  },
  {
   "cell_type": "code",
   "execution_count": 9,
   "metadata": {},
   "outputs": [],
   "source": [
    "le = LabelEncoder()\n",
    "\n",
    "dfc['Internship'] = le.fit_transform(dfc['Internship'])  # Yes=1, No=0\n",
    "dfc['Hackathon'] = le.fit_transform(dfc['Hackathon'])    # Yes=1, No=0\n",
    "dfc['PlacementStatus'] = le.fit_transform(dfc['PlacementStatus'])  # Placed=1, NotPlaced=0\n",
    "\n",
    "X = dfc.drop(columns=['PlacementStatus', 'salary'])  \n",
    "y_placement = dfc['PlacementStatus']  \n",
    "y_salary = dfc['salary']  \n",
    "\n",
    "X_train, X_test, y_train_placement, y_test_placement, y_train_salary, y_test_salary = train_test_split(\n",
    "    X, y_placement, y_salary, test_size=0.2, random_state=42\n",
    ")\n",
    "\n",
    "scaler = StandardScaler()\n",
    "X_train_scaled = scaler.fit_transform(X_train)\n",
    "X_test_scaled = scaler.transform(X_test)"
   ]
  },
  {
   "cell_type": "markdown",
   "metadata": {},
   "source": [
    "**random forest model**"
   ]
  },
  {
   "cell_type": "markdown",
   "metadata": {},
   "source": [
    "*classification*"
   ]
  },
  {
   "cell_type": "code",
   "execution_count": 10,
   "metadata": {},
   "outputs": [
    {
     "name": "stdout",
     "output_type": "stream",
     "text": [
      "Accuracy of Placement Status Prediction: 93.50%\n"
     ]
    }
   ],
   "source": [
    "rf_placement = RandomForestClassifier(random_state=42)\n",
    "rf_placement.fit(X_train_scaled, y_train_placement)\n",
    "\n",
    "y_pred_placement = rf_placement.predict(X_test_scaled)\n",
    "accuracy = accuracy_score(y_test_placement, y_pred_placement)\n",
    "print(f'Accuracy of Placement Status Prediction: {accuracy * 100:.2f}%')\n"
   ]
  },
  {
   "cell_type": "markdown",
   "metadata": {},
   "source": [
    "*regression*"
   ]
  },
  {
   "cell_type": "code",
   "execution_count": 11,
   "metadata": {},
   "outputs": [
    {
     "name": "stdout",
     "output_type": "stream",
     "text": [
      "Mean Squared Error of Salary Prediction: 39346075168.57\n"
     ]
    }
   ],
   "source": [
    "rf_salary = RandomForestRegressor(random_state=42)\n",
    "rf_salary.fit(X_train_scaled, y_train_salary)\n",
    "\n",
    "y_pred_salary = rf_salary.predict(X_test_scaled)\n",
    "mse = mean_squared_error(y_test_salary, y_pred_salary)\n",
    "print(f'Mean Squared Error of Salary Prediction: {mse:.2f}')\n"
   ]
  },
  {
   "cell_type": "code",
   "execution_count": 12,
   "metadata": {},
   "outputs": [
    {
     "name": "stdout",
     "output_type": "stream",
     "text": [
      "Fitting 5 folds for each of 108 candidates, totalling 540 fits\n",
      "Best parameters: {'max_depth': 10, 'min_samples_leaf': 1, 'min_samples_split': 2, 'n_estimators': 200}\n"
     ]
    }
   ],
   "source": [
    "from sklearn.model_selection import GridSearchCV\n",
    "\n",
    "param_grid = {\n",
    "    'n_estimators': [100, 200, 300],\n",
    "    'max_depth': [10, 20, 30, None],\n",
    "    'min_samples_split': [2, 5, 10],\n",
    "    'min_samples_leaf': [1, 2, 4]\n",
    "}\n",
    "\n",
    "grid_search = GridSearchCV(estimator=RandomForestRegressor(), param_grid=param_grid, cv=5, n_jobs=-1, verbose=2)\n",
    "grid_search.fit(X_train_scaled, y_train_salary)\n",
    "print(\"Best parameters:\", grid_search.best_params_)\n"
   ]
  },
  {
   "cell_type": "code",
   "execution_count": 13,
   "metadata": {},
   "outputs": [
    {
     "name": "stdout",
     "output_type": "stream",
     "text": [
      "R² Score: 0.8352\n",
      "Mean Absolute Error (MAE): 91779.32\n",
      "Mean Squared Error (MSE): 36603122319.08\n"
     ]
    }
   ],
   "source": [
    "from sklearn.metrics import r2_score, mean_absolute_error, mean_squared_error, roc_auc_score\n",
    "\n",
    "rf_salary_best = RandomForestRegressor(\n",
    "    max_depth=10, min_samples_leaf=2, min_samples_split=5, n_estimators=200, random_state=42\n",
    ")\n",
    "rf_salary_best.fit(X_train_scaled, y_train_salary)\n",
    "\n",
    "y_pred_salary_best = rf_salary_best.predict(X_test_scaled)\n",
    "\n",
    "r2 = r2_score(y_test_salary, y_pred_salary_best)\n",
    "print(f'R² Score: {r2:.4f}')\n",
    "\n",
    "mae = mean_absolute_error(y_test_salary, y_pred_salary_best)\n",
    "print(f'Mean Absolute Error (MAE): {mae:.2f}')\n",
    "\n",
    "mse = mean_squared_error(y_test_salary, y_pred_salary_best)\n",
    "print(f'Mean Squared Error (MSE): {mse:.2f}')\n",
    "\n"
   ]
  },
  {
   "cell_type": "code",
   "execution_count": 14,
   "metadata": {},
   "outputs": [],
   "source": [
    "with open('rf_placement_model.pkl', 'wb') as f:\n",
    "    pickle.dump(rf_placement, f)\n",
    "\n",
    "with open('rf_salary_model.pkl', 'wb') as f:\n",
    "    pickle.dump(rf_salary_best, f)\n",
    "\n",
    "with open('scaler.pkl', 'wb') as f:\n",
    "    pickle.dump(scaler, f)\n"
   ]
  }
 ],
 "metadata": {
  "kernelspec": {
   "display_name": "Python 3",
   "language": "python",
   "name": "python3"
  },
  "language_info": {
   "codemirror_mode": {
    "name": "ipython",
    "version": 3
   },
   "file_extension": ".py",
   "mimetype": "text/x-python",
   "name": "python",
   "nbconvert_exporter": "python",
   "pygments_lexer": "ipython3",
   "version": "3.9.13"
  }
 },
 "nbformat": 4,
 "nbformat_minor": 2
}
